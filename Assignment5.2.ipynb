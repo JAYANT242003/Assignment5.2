{
 "cells": [
  {
   "cell_type": "code",
   "execution_count": null,
   "id": "4b8b2f6e-1b6d-4388-b02c-7eed81f3741f",
   "metadata": {},
   "outputs": [],
   "source": [
    "Q1."
   ]
  },
  {
   "cell_type": "code",
   "execution_count": null,
   "id": "f98952cc-128c-4096-bbd4-e522ab608d46",
   "metadata": {},
   "outputs": [],
   "source": [
    " In python exceptions are used to handle errors and abnormal conditions that may occur during the execution of a program. When creating custom exceptions, it is a good practice to derive them from the base Exception class or one of its subclasses."
   ]
  },
  {
   "cell_type": "code",
   "execution_count": null,
   "id": "5d501060-0a9e-49a9-9d2d-4daa6a0aa452",
   "metadata": {},
   "outputs": [],
   "source": []
  },
  {
   "cell_type": "code",
   "execution_count": null,
   "id": "2efc0041-4806-4570-96c3-f4a41e1247a2",
   "metadata": {},
   "outputs": [],
   "source": []
  },
  {
   "cell_type": "code",
   "execution_count": null,
   "id": "3bd3f8f2-996e-49f5-9092-868bc22cceb5",
   "metadata": {},
   "outputs": [],
   "source": [
    "Q2."
   ]
  },
  {
   "cell_type": "code",
   "execution_count": 5,
   "id": "29149c6b-0add-4724-aec8-e9894dc606e9",
   "metadata": {},
   "outputs": [
    {
     "name": "stdout",
     "output_type": "stream",
     "text": [
      "test  [Errno 2] No such file or directory: 'abc.txt'\n"
     ]
    }
   ],
   "source": [
    "try :\n",
    "    with open(\"abc.txt\" , 'r') as f :\n",
    "        test = f.read()\n",
    "except FileNotFoundError as e :\n",
    "    print(\"test \" , e)        \n",
    "except Exception as e :\n",
    "    print(e)"
   ]
  },
  {
   "cell_type": "code",
   "execution_count": null,
   "id": "54d6b907-9337-481d-95b8-16792a271e96",
   "metadata": {},
   "outputs": [],
   "source": []
  },
  {
   "cell_type": "code",
   "execution_count": null,
   "id": "8a0d63d1-5a70-4ec0-8c05-b94878c2f22e",
   "metadata": {},
   "outputs": [],
   "source": []
  },
  {
   "cell_type": "code",
   "execution_count": null,
   "id": "fad7cca2-18ba-4756-a117-853ca389afe4",
   "metadata": {},
   "outputs": [],
   "source": [
    "Q3."
   ]
  },
  {
   "cell_type": "code",
   "execution_count": null,
   "id": "026d7ebf-92f9-4596-a8b3-c8ee7d8d9fc6",
   "metadata": {},
   "outputs": [],
   "source": [
    "The ArithmeticError class in Python is a base class for exceptions that occur during arithmetic operations"
   ]
  },
  {
   "cell_type": "code",
   "execution_count": null,
   "id": "f5847b2d-6cd4-45d1-88af-15cae990d192",
   "metadata": {},
   "outputs": [],
   "source": [
    "OverflowError : This error is raised when the result of an arithmetic operation is too large to be represented within the available memory.\n",
    "ZeroDivisonError : This error occurs when attempting to divide a number by zero.\n"
   ]
  },
  {
   "cell_type": "code",
   "execution_count": 30,
   "id": "cb8fa359-7782-4e67-8f0c-abeb32f1b61d",
   "metadata": {},
   "outputs": [
    {
     "name": "stdout",
     "output_type": "stream",
     "text": [
      "division by zero\n"
     ]
    }
   ],
   "source": [
    "try:\n",
    "    a = 50 / 0\n",
    "except ZeroDivisionError as e:\n",
    "    print(e)\n",
    "except OverflowError as e:\n",
    "    print(e)\n",
    "\n"
   ]
  },
  {
   "cell_type": "code",
   "execution_count": null,
   "id": "e34aa415-7c08-431a-9d88-6b9ae89927ba",
   "metadata": {},
   "outputs": [],
   "source": []
  },
  {
   "cell_type": "code",
   "execution_count": null,
   "id": "30aed5b6-c0c8-460d-9a97-ea95f7599d8b",
   "metadata": {},
   "outputs": [],
   "source": []
  },
  {
   "cell_type": "code",
   "execution_count": null,
   "id": "90517424-6ab5-4d8a-a9ac-fa348b056736",
   "metadata": {},
   "outputs": [],
   "source": [
    "Q4."
   ]
  },
  {
   "cell_type": "code",
   "execution_count": null,
   "id": "71797b50-c937-47c0-ba43-a49932c73460",
   "metadata": {},
   "outputs": [],
   "source": [
    "\n",
    "The LookupError class in Python is the base class for exceptions that occur when a key or index used to look up a value in a mapping or sequence (respectively) is not found"
   ]
  },
  {
   "cell_type": "code",
   "execution_count": 45,
   "id": "1b32a9c6-ad7a-4fbf-935b-3125150d068b",
   "metadata": {},
   "outputs": [
    {
     "name": "stdout",
     "output_type": "stream",
     "text": [
      "'key2'\n"
     ]
    }
   ],
   "source": [
    "try :\n",
    "    d = {\"key\" :\"sudh\" , 1 : [2,3,4,5]}\n",
    "    print(d[\"key2\"])\n",
    "except KeyError as e : \n",
    "    print(e)"
   ]
  },
  {
   "cell_type": "code",
   "execution_count": 40,
   "id": "c79da39a-9b87-4041-93fd-88d621e60360",
   "metadata": {},
   "outputs": [
    {
     "name": "stdout",
     "output_type": "stream",
     "text": [
      "list index out of range\n"
     ]
    }
   ],
   "source": [
    "try :\n",
    "    l = [2,3,4,5]\n",
    "    print(l[9])\n",
    "except IndexError as e :\n",
    "    print(e)"
   ]
  },
  {
   "cell_type": "code",
   "execution_count": null,
   "id": "5c27c4ca-d533-4309-9cf1-c5cc7c9242a1",
   "metadata": {},
   "outputs": [],
   "source": []
  },
  {
   "cell_type": "code",
   "execution_count": null,
   "id": "5340dca4-b076-4637-999b-47b8c17774f4",
   "metadata": {},
   "outputs": [],
   "source": []
  },
  {
   "cell_type": "code",
   "execution_count": null,
   "id": "7abc60f7-2efb-4957-ae21-f9433db161b8",
   "metadata": {},
   "outputs": [],
   "source": [
    "Q5."
   ]
  },
  {
   "cell_type": "code",
   "execution_count": null,
   "id": "68c2406a-79e5-4519-9f72-1b30bcb3b133",
   "metadata": {},
   "outputs": [],
   "source": [
    "ImportError is a general exception that is raised when an import statement fails for any reason."
   ]
  },
  {
   "cell_type": "code",
   "execution_count": null,
   "id": "ad6d3398-1e14-473c-a64b-566ef35b3c27",
   "metadata": {},
   "outputs": [],
   "source": [
    "ModuleNotFoundError is a more specific subclass of ImportError that is raised when the specified module cannot be found during the import process."
   ]
  },
  {
   "cell_type": "code",
   "execution_count": null,
   "id": "b1960b78-73e2-42aa-80cd-522b844d6555",
   "metadata": {},
   "outputs": [],
   "source": []
  },
  {
   "cell_type": "code",
   "execution_count": null,
   "id": "312e017b-3f39-4dfe-b0ae-fa142cfef831",
   "metadata": {},
   "outputs": [],
   "source": []
  },
  {
   "cell_type": "code",
   "execution_count": null,
   "id": "852e3e3a-141c-463a-ab05-5a84fb13c81d",
   "metadata": {},
   "outputs": [],
   "source": [
    "Q6."
   ]
  },
  {
   "cell_type": "code",
   "execution_count": null,
   "id": "3288b00c-b647-4b02-ae7e-0a5a43f03644",
   "metadata": {},
   "outputs": [],
   "source": [
    "There are some best practice for exception in python\n",
    "1. specify"
   ]
  },
  {
   "cell_type": "code",
   "execution_count": null,
   "id": "01bb3d84-990d-45fd-9d3d-44d00513c20e",
   "metadata": {},
   "outputs": [],
   "source": []
  }
 ],
 "metadata": {
  "kernelspec": {
   "display_name": "Python 3 (ipykernel)",
   "language": "python",
   "name": "python3"
  },
  "language_info": {
   "codemirror_mode": {
    "name": "ipython",
    "version": 3
   },
   "file_extension": ".py",
   "mimetype": "text/x-python",
   "name": "python",
   "nbconvert_exporter": "python",
   "pygments_lexer": "ipython3",
   "version": "3.10.8"
  }
 },
 "nbformat": 4,
 "nbformat_minor": 5
}
